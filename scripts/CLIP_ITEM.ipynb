{
 "cells": [
  {
   "cell_type": "code",
   "execution_count": 1,
   "id": "check_gpu",
   "metadata": {
    "colab": {
     "base_uri": "https://localhost:8080/"
    },
    "executionInfo": {
     "elapsed": 4639,
     "status": "ok",
     "timestamp": 1756261372253,
     "user": {
      "displayName": "Serena Cheng",
      "userId": "10714070634114657116"
     },
     "user_tz": 240
    },
    "id": "check_gpu",
    "outputId": "18700d31-ba30-4ec1-a8eb-82e33ef09be9"
   },
   "outputs": [
    {
     "name": "stdout",
     "output_type": "stream",
     "text": [
      "Wed Aug 27 02:22:44 2025       \n",
      "+-----------------------------------------------------------------------------------------+\n",
      "| NVIDIA-SMI 550.54.15              Driver Version: 550.54.15      CUDA Version: 12.4     |\n",
      "|-----------------------------------------+------------------------+----------------------+\n",
      "| GPU  Name                 Persistence-M | Bus-Id          Disp.A | Volatile Uncorr. ECC |\n",
      "| Fan  Temp   Perf          Pwr:Usage/Cap |           Memory-Usage | GPU-Util  Compute M. |\n",
      "|                                         |                        |               MIG M. |\n",
      "|=========================================+========================+======================|\n",
      "|   0  NVIDIA A100-SXM4-40GB          Off |   00000000:00:04.0 Off |                    0 |\n",
      "| N/A   32C    P0             41W /  400W |       0MiB /  40960MiB |      0%      Default |\n",
      "|                                         |                        |             Disabled |\n",
      "+-----------------------------------------+------------------------+----------------------+\n",
      "                                                                                         \n",
      "+-----------------------------------------------------------------------------------------+\n",
      "| Processes:                                                                              |\n",
      "|  GPU   GI   CI        PID   Type   Process name                              GPU Memory |\n",
      "|        ID   ID                                                               Usage      |\n",
      "|=========================================================================================|\n",
      "|  No running processes found                                                             |\n",
      "+-----------------------------------------------------------------------------------------+\n",
      "CUDA available: True\n",
      "NVIDIA A100-SXM4-40GB\n"
     ]
    }
   ],
   "source": [
    "!nvidia-smi || true\n",
    "import torch, platform\n",
    "print(\"CUDA available:\", torch.cuda.is_available())\n",
    "if torch.cuda.is_available():\n",
    "    print(torch.cuda.get_device_name(0))"
   ]
  },
  {
   "cell_type": "code",
   "execution_count": 2,
   "id": "install",
   "metadata": {
    "colab": {
     "base_uri": "https://localhost:8080/"
    },
    "executionInfo": {
     "elapsed": 18827,
     "status": "ok",
     "timestamp": 1756261393137,
     "user": {
      "displayName": "Serena Cheng",
      "userId": "10714070634114657116"
     },
     "user_tz": 240
    },
    "id": "install",
    "outputId": "a4c08c86-d2a4-4561-af7a-f0bf839f9530"
   },
   "outputs": [
    {
     "name": "stdout",
     "output_type": "stream",
     "text": [
      "     ━━━━━━━━━━━━━━━━━━━━━━━━━━━━━━━━━━━━━━━━ 91.2/91.2 kB 5.1 MB/s eta 0:00:00\n",
      "   ━━━━━━━━━━━━━━━━━━━━━━━━━━━━━━━━━━━━━━━━ 1.5/1.5 MB 48.1 MB/s eta 0:00:00\n",
      "   ━━━━━━━━━━━━━━━━━━━━━━━━━━━━━━━━━━━━━━━━ 42.8/42.8 MB 51.6 MB/s eta 0:00:00\n",
      "   ━━━━━━━━━━━━━━━━━━━━━━━━━━━━━━━━━━━━━━━━ 12.0/12.0 MB 129.5 MB/s eta 0:00:00\n",
      "   ━━━━━━━━━━━━━━━━━━━━━━━━━━━━━━━━━━━━━━━━ 44.8/44.8 kB 3.5 MB/s eta 0:00:00\n",
      "Torch: 2.8.0+cu126\n",
      "open_clip installed ✓\n"
     ]
    },
    {
     "name": "stderr",
     "output_type": "stream",
     "text": [
      "ERROR: pip's dependency resolver does not currently take into account all the packages that are installed. This behaviour is the source of the following dependency conflicts.\n",
      "google-colab 1.0.0 requires pandas==2.2.2, but you have pandas 2.3.2 which is incompatible.\n",
      "dask-cudf-cu12 25.6.0 requires pandas<2.2.4dev0,>=2.0, but you have pandas 2.3.2 which is incompatible.\n",
      "pylibcudf-cu12 25.6.0 requires pyarrow<20.0.0a0,>=14.0.0; platform_machine == \"x86_64\", but you have pyarrow 21.0.0 which is incompatible.\n",
      "cudf-cu12 25.6.0 requires pandas<2.2.4dev0,>=2.0, but you have pandas 2.3.2 which is incompatible.\n",
      "cudf-cu12 25.6.0 requires pyarrow<20.0.0a0,>=14.0.0; platform_machine == \"x86_64\", but you have pyarrow 21.0.0 which is incompatible.\n"
     ]
    }
   ],
   "source": [
    "%%bash\n",
    "pip -q install -U open_clip_torch pillow pyarrow pandas tqdm\n",
    "python - <<'PY'\n",
    "import torch\n",
    "try:\n",
    "    torch.set_float32_matmul_precision('high')\n",
    "except Exception:\n",
    "    pass\n",
    "print('Torch:', torch.__version__)\n",
    "print('open_clip installed ✓')\n",
    "PY"
   ]
  },
  {
   "cell_type": "code",
   "execution_count": 3,
   "id": "mount_drive",
   "metadata": {
    "colab": {
     "base_uri": "https://localhost:8080/"
    },
    "executionInfo": {
     "elapsed": 30171,
     "status": "ok",
     "timestamp": 1756261423314,
     "user": {
      "displayName": "Serena Cheng",
      "userId": "10714070634114657116"
     },
     "user_tz": 240
    },
    "id": "mount_drive",
    "outputId": "42988a91-b568-448a-f963-1859a4b84829"
   },
   "outputs": [
    {
     "name": "stdout",
     "output_type": "stream",
     "text": [
      "Mounted at /content/drive\n"
     ]
    }
   ],
   "source": [
    "from google.colab import drive\n",
    "drive.mount('/content/drive', force_remount=True)"
   ]
  },
  {
   "cell_type": "code",
   "execution_count": null,
   "id": "paths",
   "metadata": {
    "colab": {
     "base_uri": "https://localhost:8080/"
    },
    "executionInfo": {
     "elapsed": 2844,
     "status": "ok",
     "timestamp": 1756261426160,
     "user": {
      "displayName": "Serena Cheng",
      "userId": "10714070634114657116"
     },
     "user_tz": 240
    },
    "id": "paths",
    "outputId": "247b8de1-0853-441f-a78e-2ec744bce024"
   },
   "outputs": [
    {
     "name": "stdout",
     "output_type": "stream",
     "text": [
      "Paths set.\n"
     ]
    }
   ],
   "source": [
    "ITEMS = \"/content/drive/MyDrive/MMREC/data/items.parquet\"  #@param {type:\"string\"}\n",
    "INTERACTIONS = \"/content/drive/MyDrive/MMREC/data/interactions.parquet\"  #@param {type:\"string\"}\n",
    "SCRIPT = \"/content/drive/MyDrive/MMREC/clip_v3.py\"  #@param {type:\"string\"}\n",
    "OUT_DIR = \"/content/drive/MyDrive/MMREC/data/features\"  #@param {type:\"string\"}\n",
    "IMG_DIR = \"/content/drive/MyDrive/MMREC/data/images\"  #@param {type:\"string\"}\n",
    "ONLY_INTERACTED = True  #@param {type:\"boolean\"}\n",
    "LIMIT_ITEMS = 0         #@param {type:\"integer\"}\n",
    "TXT_BS = 512            #@param {type:\"integer\"}\n",
    "IMG_BS = 128            #@param {type:\"integer\"}\n",
    "WORKERS = 6             #@param {type:\"integer\"}\n",
    "CLIP_MODEL = \"ViT-B-32\" #@param {type:\"string\"}\n",
    "CLIP_PRETRAINED = \"openai\" #@param {type:\"string\"}\n",
    "DEVICE = \"cuda\"         #@param [\"cuda\",\"cpu\"]\n",
    "USE_EXISTING_ONLY = True\n",
    "\n",
    "import os\n",
    "for p in [OUT_DIR, IMG_DIR]:\n",
    "    os.makedirs(p, exist_ok=True)\n",
    "print('Paths set.')"
   ]
  },
  {
   "cell_type": "code",
   "execution_count": null,
   "id": "mmMlwQK4L03i",
   "metadata": {
    "colab": {
     "base_uri": "https://localhost:8080/"
    },
    "executionInfo": {
     "elapsed": 4741938,
     "status": "ok",
     "timestamp": 1756266168116,
     "user": {
      "displayName": "Serena Cheng",
      "userId": "10714070634114657116"
     },
     "user_tz": 240
    },
    "id": "mmMlwQK4L03i",
    "outputId": "1172cd26-9a0d-4402-a050-635f61e48c09"
   },
   "outputs": [
    {
     "name": "stdout",
     "output_type": "stream",
     "text": [
      "\n",
      "python -u \"/content/drive/MyDrive/MMREC/clip_v3.py\"   --items \"/content/drive/MyDrive/MMREC/data/items.parquet\"   --interactions \"/content/drive/MyDrive/MMREC/data/interactions.parquet\"   --out \"/content/drive/MyDrive/MMREC/data/features\"   --img_dir \"/content/drive/MyDrive/MMREC/data/images\"   --only-interacted --workers 6   --txt-bs 512 --img-bs 128   --clip-model \"ViT-B-32\" --clip-pretrained \"openai\"   --device cuda    --use-existing-only\n",
      "\n",
      "[Stats] items: 825869 | images ready: 30812 (3.73%) | will encode images only for existing files.\n",
      "open_clip_model.safetensors: 100% 605M/605M [00:01<00:00, 438MB/s]\n",
      "CLIP text: 100% 825869/825869 [03:23<00:00, 4067.64txt/s]\n",
      "CLIP image: 100% 30812/30812 [1:07:59<00:00,  7.55img/s]\n",
      "Saved: /content/drive/MyDrive/MMREC/data/features/item_features_clip.parquet and /content/drive/MyDrive/MMREC/data/features/user_stats.parquet\n",
      "items encoded: 825869  | failures: 0\n"
     ]
    }
   ],
   "source": [
    "cmd = f\"\"\"\n",
    "python -u \"{SCRIPT}\" \\\n",
    "  --items \"{ITEMS}\" \\\n",
    "  --interactions \"{INTERACTIONS}\" \\\n",
    "  --out \"{OUT_DIR}\" \\\n",
    "  --img_dir \"{IMG_DIR}\" \\\n",
    "  --only-interacted --workers {WORKERS} \\\n",
    "  --txt-bs {TXT_BS} --img-bs {IMG_BS} \\\n",
    "  --clip-model \"{CLIP_MODEL}\" --clip-pretrained \"{CLIP_PRETRAINED}\" \\\n",
    "  --device {DEVICE} {\"--limit-items \"+str(int(LIMIT_ITEMS)) if LIMIT_ITEMS and int(LIMIT_ITEMS)>0 else \"\"} \\\n",
    "  {\"--use-existing-only\" if USE_EXISTING_ONLY else \"\"}\n",
    "\"\"\"\n",
    "print(cmd)\n",
    "get_ipython().system(cmd)\n"
   ]
  },
  {
   "cell_type": "code",
   "execution_count": null,
   "id": "craxhn-DVEjZ",
   "metadata": {
    "colab": {
     "base_uri": "https://localhost:8080/",
     "height": 167
    },
    "executionInfo": {
     "elapsed": 21572,
     "status": "ok",
     "timestamp": 1756267050980,
     "user": {
      "displayName": "Serena Cheng",
      "userId": "10714070634114657116"
     },
     "user_tz": 240
    },
    "id": "craxhn-DVEjZ",
    "outputId": "cc57387f-5104-4ac6-d7e7-c6462da887ef"
   },
   "outputs": [
    {
     "name": "stdout",
     "output_type": "stream",
     "text": [
      "mtime: 1756266130.0 size(MB): 794.308177947998\n",
      "img cols: ['clip_img_512']\n",
      "items total=825,869 | nonzero image emb=30,812 (3.73%)\n"
     ]
    },
    {
     "data": {
      "application/vnd.google.colaboratory.intrinsic+json": {
       "type": "dataframe",
       "variable_name": "feats"
      },
      "text/html": [
       "\n",
       "  <div id=\"df-19444fc1-a7cd-4995-8486-f35cd65241f4\" class=\"colab-df-container\">\n",
       "    <div>\n",
       "<style scoped>\n",
       "    .dataframe tbody tr th:only-of-type {\n",
       "        vertical-align: middle;\n",
       "    }\n",
       "\n",
       "    .dataframe tbody tr th {\n",
       "        vertical-align: top;\n",
       "    }\n",
       "\n",
       "    .dataframe thead th {\n",
       "        text-align: right;\n",
       "    }\n",
       "</style>\n",
       "<table border=\"1\" class=\"dataframe\">\n",
       "  <thead>\n",
       "    <tr style=\"text-align: right;\">\n",
       "      <th></th>\n",
       "      <th>item_id</th>\n",
       "      <th>clip_txt_512</th>\n",
       "      <th>clip_img_512</th>\n",
       "      <th>price_log1p</th>\n",
       "      <th>has_image</th>\n",
       "      <th>image_path</th>\n",
       "    </tr>\n",
       "  </thead>\n",
       "  <tbody>\n",
       "    <tr>\n",
       "      <th>0</th>\n",
       "      <td>B08BHN9PK5</td>\n",
       "      <td>[-0.0016107559204101562, -0.048614501953125, 0...</td>\n",
       "      <td>[0.0, 0.0, 0.0, 0.0, 0.0, 0.0, 0.0, 0.0, 0.0, ...</td>\n",
       "      <td>0.0</td>\n",
       "      <td>False</td>\n",
       "      <td>None</td>\n",
       "    </tr>\n",
       "    <tr>\n",
       "      <th>1</th>\n",
       "      <td>B08R39MRDW</td>\n",
       "      <td>[0.028533935546875, 0.0176239013671875, -0.003...</td>\n",
       "      <td>[0.0161285400390625, 0.0037555694580078125, 0....</td>\n",
       "      <td>0.0</td>\n",
       "      <td>True</td>\n",
       "      <td>/content/drive/MyDrive/MMREC/data/images/B08R3...</td>\n",
       "    </tr>\n",
       "  </tbody>\n",
       "</table>\n",
       "</div>\n",
       "    <div class=\"colab-df-buttons\">\n",
       "\n",
       "  <div class=\"colab-df-container\">\n",
       "    <button class=\"colab-df-convert\" onclick=\"convertToInteractive('df-19444fc1-a7cd-4995-8486-f35cd65241f4')\"\n",
       "            title=\"Convert this dataframe to an interactive table.\"\n",
       "            style=\"display:none;\">\n",
       "\n",
       "  <svg xmlns=\"http://www.w3.org/2000/svg\" height=\"24px\" viewBox=\"0 -960 960 960\">\n",
       "    <path d=\"M120-120v-720h720v720H120Zm60-500h600v-160H180v160Zm220 220h160v-160H400v160Zm0 220h160v-160H400v160ZM180-400h160v-160H180v160Zm440 0h160v-160H620v160ZM180-180h160v-160H180v160Zm440 0h160v-160H620v160Z\"/>\n",
       "  </svg>\n",
       "    </button>\n",
       "\n",
       "  <style>\n",
       "    .colab-df-container {\n",
       "      display:flex;\n",
       "      gap: 12px;\n",
       "    }\n",
       "\n",
       "    .colab-df-convert {\n",
       "      background-color: #E8F0FE;\n",
       "      border: none;\n",
       "      border-radius: 50%;\n",
       "      cursor: pointer;\n",
       "      display: none;\n",
       "      fill: #1967D2;\n",
       "      height: 32px;\n",
       "      padding: 0 0 0 0;\n",
       "      width: 32px;\n",
       "    }\n",
       "\n",
       "    .colab-df-convert:hover {\n",
       "      background-color: #E2EBFA;\n",
       "      box-shadow: 0px 1px 2px rgba(60, 64, 67, 0.3), 0px 1px 3px 1px rgba(60, 64, 67, 0.15);\n",
       "      fill: #174EA6;\n",
       "    }\n",
       "\n",
       "    .colab-df-buttons div {\n",
       "      margin-bottom: 4px;\n",
       "    }\n",
       "\n",
       "    [theme=dark] .colab-df-convert {\n",
       "      background-color: #3B4455;\n",
       "      fill: #D2E3FC;\n",
       "    }\n",
       "\n",
       "    [theme=dark] .colab-df-convert:hover {\n",
       "      background-color: #434B5C;\n",
       "      box-shadow: 0px 1px 3px 1px rgba(0, 0, 0, 0.15);\n",
       "      filter: drop-shadow(0px 1px 2px rgba(0, 0, 0, 0.3));\n",
       "      fill: #FFFFFF;\n",
       "    }\n",
       "  </style>\n",
       "\n",
       "    <script>\n",
       "      const buttonEl =\n",
       "        document.querySelector('#df-19444fc1-a7cd-4995-8486-f35cd65241f4 button.colab-df-convert');\n",
       "      buttonEl.style.display =\n",
       "        google.colab.kernel.accessAllowed ? 'block' : 'none';\n",
       "\n",
       "      async function convertToInteractive(key) {\n",
       "        const element = document.querySelector('#df-19444fc1-a7cd-4995-8486-f35cd65241f4');\n",
       "        const dataTable =\n",
       "          await google.colab.kernel.invokeFunction('convertToInteractive',\n",
       "                                                    [key], {});\n",
       "        if (!dataTable) return;\n",
       "\n",
       "        const docLinkHtml = 'Like what you see? Visit the ' +\n",
       "          '<a target=\"_blank\" href=https://colab.research.google.com/notebooks/data_table.ipynb>data table notebook</a>'\n",
       "          + ' to learn more about interactive tables.';\n",
       "        element.innerHTML = '';\n",
       "        dataTable['output_type'] = 'display_data';\n",
       "        await google.colab.output.renderOutput(dataTable, element);\n",
       "        const docLink = document.createElement('div');\n",
       "        docLink.innerHTML = docLinkHtml;\n",
       "        element.appendChild(docLink);\n",
       "      }\n",
       "    </script>\n",
       "  </div>\n",
       "\n",
       "\n",
       "    <div id=\"df-e627e9eb-8f35-4f40-a433-06df86b796d2\">\n",
       "      <button class=\"colab-df-quickchart\" onclick=\"quickchart('df-e627e9eb-8f35-4f40-a433-06df86b796d2')\"\n",
       "                title=\"Suggest charts\"\n",
       "                style=\"display:none;\">\n",
       "\n",
       "<svg xmlns=\"http://www.w3.org/2000/svg\" height=\"24px\"viewBox=\"0 0 24 24\"\n",
       "     width=\"24px\">\n",
       "    <g>\n",
       "        <path d=\"M19 3H5c-1.1 0-2 .9-2 2v14c0 1.1.9 2 2 2h14c1.1 0 2-.9 2-2V5c0-1.1-.9-2-2-2zM9 17H7v-7h2v7zm4 0h-2V7h2v10zm4 0h-2v-4h2v4z\"/>\n",
       "    </g>\n",
       "</svg>\n",
       "      </button>\n",
       "\n",
       "<style>\n",
       "  .colab-df-quickchart {\n",
       "      --bg-color: #E8F0FE;\n",
       "      --fill-color: #1967D2;\n",
       "      --hover-bg-color: #E2EBFA;\n",
       "      --hover-fill-color: #174EA6;\n",
       "      --disabled-fill-color: #AAA;\n",
       "      --disabled-bg-color: #DDD;\n",
       "  }\n",
       "\n",
       "  [theme=dark] .colab-df-quickchart {\n",
       "      --bg-color: #3B4455;\n",
       "      --fill-color: #D2E3FC;\n",
       "      --hover-bg-color: #434B5C;\n",
       "      --hover-fill-color: #FFFFFF;\n",
       "      --disabled-bg-color: #3B4455;\n",
       "      --disabled-fill-color: #666;\n",
       "  }\n",
       "\n",
       "  .colab-df-quickchart {\n",
       "    background-color: var(--bg-color);\n",
       "    border: none;\n",
       "    border-radius: 50%;\n",
       "    cursor: pointer;\n",
       "    display: none;\n",
       "    fill: var(--fill-color);\n",
       "    height: 32px;\n",
       "    padding: 0;\n",
       "    width: 32px;\n",
       "  }\n",
       "\n",
       "  .colab-df-quickchart:hover {\n",
       "    background-color: var(--hover-bg-color);\n",
       "    box-shadow: 0 1px 2px rgba(60, 64, 67, 0.3), 0 1px 3px 1px rgba(60, 64, 67, 0.15);\n",
       "    fill: var(--button-hover-fill-color);\n",
       "  }\n",
       "\n",
       "  .colab-df-quickchart-complete:disabled,\n",
       "  .colab-df-quickchart-complete:disabled:hover {\n",
       "    background-color: var(--disabled-bg-color);\n",
       "    fill: var(--disabled-fill-color);\n",
       "    box-shadow: none;\n",
       "  }\n",
       "\n",
       "  .colab-df-spinner {\n",
       "    border: 2px solid var(--fill-color);\n",
       "    border-color: transparent;\n",
       "    border-bottom-color: var(--fill-color);\n",
       "    animation:\n",
       "      spin 1s steps(1) infinite;\n",
       "  }\n",
       "\n",
       "  @keyframes spin {\n",
       "    0% {\n",
       "      border-color: transparent;\n",
       "      border-bottom-color: var(--fill-color);\n",
       "      border-left-color: var(--fill-color);\n",
       "    }\n",
       "    20% {\n",
       "      border-color: transparent;\n",
       "      border-left-color: var(--fill-color);\n",
       "      border-top-color: var(--fill-color);\n",
       "    }\n",
       "    30% {\n",
       "      border-color: transparent;\n",
       "      border-left-color: var(--fill-color);\n",
       "      border-top-color: var(--fill-color);\n",
       "      border-right-color: var(--fill-color);\n",
       "    }\n",
       "    40% {\n",
       "      border-color: transparent;\n",
       "      border-right-color: var(--fill-color);\n",
       "      border-top-color: var(--fill-color);\n",
       "    }\n",
       "    60% {\n",
       "      border-color: transparent;\n",
       "      border-right-color: var(--fill-color);\n",
       "    }\n",
       "    80% {\n",
       "      border-color: transparent;\n",
       "      border-right-color: var(--fill-color);\n",
       "      border-bottom-color: var(--fill-color);\n",
       "    }\n",
       "    90% {\n",
       "      border-color: transparent;\n",
       "      border-bottom-color: var(--fill-color);\n",
       "    }\n",
       "  }\n",
       "</style>\n",
       "\n",
       "      <script>\n",
       "        async function quickchart(key) {\n",
       "          const quickchartButtonEl =\n",
       "            document.querySelector('#' + key + ' button');\n",
       "          quickchartButtonEl.disabled = true;  // To prevent multiple clicks.\n",
       "          quickchartButtonEl.classList.add('colab-df-spinner');\n",
       "          try {\n",
       "            const charts = await google.colab.kernel.invokeFunction(\n",
       "                'suggestCharts', [key], {});\n",
       "          } catch (error) {\n",
       "            console.error('Error during call to suggestCharts:', error);\n",
       "          }\n",
       "          quickchartButtonEl.classList.remove('colab-df-spinner');\n",
       "          quickchartButtonEl.classList.add('colab-df-quickchart-complete');\n",
       "        }\n",
       "        (() => {\n",
       "          let quickchartButtonEl =\n",
       "            document.querySelector('#df-e627e9eb-8f35-4f40-a433-06df86b796d2 button');\n",
       "          quickchartButtonEl.style.display =\n",
       "            google.colab.kernel.accessAllowed ? 'block' : 'none';\n",
       "        })();\n",
       "      </script>\n",
       "    </div>\n",
       "\n",
       "    </div>\n",
       "  </div>\n"
      ],
      "text/plain": [
       "      item_id                                       clip_txt_512  \\\n",
       "0  B08BHN9PK5  [-0.0016107559204101562, -0.048614501953125, 0...   \n",
       "1  B08R39MRDW  [0.028533935546875, 0.0176239013671875, -0.003...   \n",
       "\n",
       "                                        clip_img_512  price_log1p  has_image  \\\n",
       "0  [0.0, 0.0, 0.0, 0.0, 0.0, 0.0, 0.0, 0.0, 0.0, ...          0.0      False   \n",
       "1  [0.0161285400390625, 0.0037555694580078125, 0....          0.0       True   \n",
       "\n",
       "                                          image_path  \n",
       "0                                               None  \n",
       "1  /content/drive/MyDrive/MMREC/data/images/B08R3...  "
      ]
     },
     "execution_count": 6,
     "metadata": {},
     "output_type": "execute_result"
    }
   ],
   "source": [
    "import os, re, numpy as np, pandas as pd\n",
    "\n",
    "FEATS_IN = \"/content/drive/MyDrive/MMREC/data/features/item_features_clip.parquet\" \n",
    "print(\"mtime:\", os.path.getmtime(FEATS_IN), \"size(MB):\", os.path.getsize(FEATS_IN)/1024/1024)\n",
    "\n",
    "feats = pd.read_parquet(FEATS_IN)\n",
    "img_cols = [c for c in feats.columns if re.match(r\"^(clip_img|img_emb)_\\d+$\", c)]\n",
    "print(\"img cols:\", img_cols)\n",
    "img_col = img_cols[0]\n",
    "\n",
    "def nonzero(a):\n",
    "    a = np.asarray(a, dtype=np.float32).ravel()\n",
    "    return a.size>0 and np.any(a!=0)\n",
    "\n",
    "n_all = feats[\"item_id\"].nunique()\n",
    "n_nz  = feats[img_col].apply(nonzero).sum()\n",
    "print(f\"items total={n_all:,} | nonzero image emb={n_nz:,} ({n_nz/n_all:.2%})\")\n",
    "feats.head(2)\n"
   ]
  }
 ],
 "metadata": {
  "accelerator": "GPU",
  "colab": {
   "gpuType": "A100",
   "provenance": []
  },
  "kernelspec": {
   "display_name": "Python 3",
   "name": "python3"
  },
  "language_info": {
   "name": "python",
   "version": "3.x"
  }
 },
 "nbformat": 4,
 "nbformat_minor": 5
}
