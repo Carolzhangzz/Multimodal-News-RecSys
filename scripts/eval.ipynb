{
 "cells": [
  {
   "cell_type": "code",
   "execution_count": 2,
   "metadata": {
    "colab": {
     "base_uri": "https://localhost:8080/"
    },
    "executionInfo": {
     "elapsed": 40025,
     "status": "ok",
     "timestamp": 1756336776079,
     "user": {
      "displayName": "Serena Cheng",
      "userId": "10714070634114657116"
     },
     "user_tz": 240
    },
    "id": "3Fajbird7Phj",
    "outputId": "f5e8e74c-4250-4b70-ca48-0695acfedf25"
   },
   "outputs": [
    {
     "name": "stdout",
     "output_type": "stream",
     "text": [
      "Mounted at /content/drive\n"
     ]
    }
   ],
   "source": [
    "from google.colab import drive\n",
    "drive.mount('/content/drive')"
   ]
  },
  {
   "cell_type": "code",
   "execution_count": 4,
   "metadata": {
    "colab": {
     "base_uri": "https://localhost:8080/"
    },
    "executionInfo": {
     "elapsed": 825729,
     "status": "ok",
     "timestamp": 1756338918754,
     "user": {
      "displayName": "Serena Cheng",
      "userId": "10714070634114657116"
     },
     "user_tz": 240
    },
    "id": "ttTjaKZEMVxQ",
    "outputId": "9bdbd682-0272-4ff9-e60a-bf1c83fc3eda"
   },
   "outputs": [
    {
     "name": "stdout",
     "output_type": "stream",
     "text": [
      "valid_all: HR@10=0.4085  NDCG@10=0.1757  (n=585)\n",
      "test_all: HR@10=0.2085  NDCG@10=0.0989  (n=206474)\n",
      "valid_cold_user: HR@10=0.4269  NDCG@10=0.1874  (n=417)\n",
      "test_cold_user: HR@10=0.2085  NDCG@10=0.0989  (n=206306)\n",
      "valid_cold_item: HR@10=0.0669  NDCG@10=0.0305  (n=254)\n",
      "test_cold_item: HR@10=0.0514  NDCG@10=0.0244  (n=95115)\n",
      "Logged to: /content/drive/MyDrive/MMREC/ckpt_mmgcn_light/cold_eval_log.csv\n"
     ]
    }
   ],
   "source": [
    "!python -u \"/content/drive/MyDrive/MMREC/eval_cold_v1.py\" \\\n",
    "  --graph \"/content/drive/MyDrive/MMREC/data/graph\" \\\n",
    "  --ckpt  \"/content/drive/MyDrive/MMREC/ckpt_mmgcn_light/mmgcn_light.pt\" \\\n",
    "  --K 10 --n_neg 500"
   ]
  },
  {
   "cell_type": "code",
   "execution_count": 3,
   "metadata": {
    "colab": {
     "base_uri": "https://localhost:8080/"
    },
    "executionInfo": {
     "elapsed": 1245210,
     "status": "ok",
     "timestamp": 1756338072466,
     "user": {
      "displayName": "Serena Cheng",
      "userId": "10714070634114657116"
     },
     "user_tz": 240
    },
    "id": "LtgFvuif7Bgb",
    "outputId": "f98a927b-1587-45c8-e723-0dc49d54536e"
   },
   "outputs": [
    {
     "name": "stdout",
     "output_type": "stream",
     "text": [
      "valid_all: HR@20=0.1536  NDCG@20=0.0865  (n=80681)\n",
      "Eval:  31% 621938/2035490 [16:58<38:42, 608.65it/s]Exception ignored in: <generator object tqdm.__iter__ at 0x7b03f67aa7a0>\n",
      "Traceback (most recent call last):\n",
      "  File \"/usr/local/lib/python3.12/dist-packages/tqdm/std.py\", line 1196, in __iter__\n",
      "    self.close()\n",
      "  File \"/usr/local/lib/python3.12/dist-packages/tqdm/std.py\", line 1290, in close\n",
      "    fp_write('')\n",
      "  File \"/usr/local/lib/python3.12/dist-packages/tqdm/std.py\", line 1287, in fp_write\n",
      "    self.fp.write(str(s))\n",
      "  File \"/usr/local/lib/python3.12/dist-packages/tqdm/utils.py\", line 196, in inner\n",
      "    return func(*args, **kwargs)\n",
      "           ^^^^^^^^^^^^^^^^^^^^^\n",
      "KeyboardInterrupt: \n",
      "Traceback (most recent call last):\n",
      "  File \"/content/drive/MyDrive/MMREC/eval_cold_v1.py\", line 171, in <module>\n",
      "    main(args)\n",
      "  File \"/content/drive/MyDrive/MMREC/eval_cold_v1.py\", line 137, in main\n",
      "    hr, nd = evaluate(U, I, df, user_pos, n_items,\n",
      "             ^^^^^^^^^^^^^^^^^^^^^^^^^^^^^^^^^^^^^\n",
      "  File \"/usr/local/lib/python3.12/dist-packages/torch/utils/_contextlib.py\", line 120, in decorate_context\n",
      "    return func(*args, **kwargs)\n",
      "           ^^^^^^^^^^^^^^^^^^^^^\n",
      "  File \"/content/drive/MyDrive/MMREC/eval_cold_v1.py\", line 65, in evaluate\n",
      "    j = int(rng.integers(0, n_items))\n",
      "            ^^^^^^^^^^^^^^^^^^^^^^^^\n",
      "KeyboardInterrupt\n",
      "^C\n"
     ]
    }
   ],
   "source": [
    "!python -u \"/content/drive/MyDrive/MMREC/eval_cold_v1.py\" \\\n",
    "  --graph \"/content/drive/MyDrive/MMREC/data/graph_full_v1\" \\\n",
    "  --ckpt  \"/content/drive/MyDrive/MMREC/ckpt_mmgcn_light_full_v1/mmgcn_light.pt\" \\\n",
    "  --K 20 --n_neg 500"
   ]
  }
 ],
 "metadata": {
  "accelerator": "GPU",
  "colab": {
   "authorship_tag": "ABX9TyPSDbwjeZG0lsYDtvnmMZAQ",
   "gpuType": "L4",
   "provenance": []
  },
  "kernelspec": {
   "display_name": "Python 3",
   "name": "python3"
  },
  "language_info": {
   "name": "python"
  }
 },
 "nbformat": 4,
 "nbformat_minor": 0
}
