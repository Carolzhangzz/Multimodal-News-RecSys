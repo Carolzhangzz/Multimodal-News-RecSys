{
 "cells": [
  {
   "cell_type": "code",
   "execution_count": null,
   "metadata": {
    "colab": {
     "base_uri": "https://localhost:8080/"
    },
    "executionInfo": {
     "elapsed": 14820,
     "status": "ok",
     "timestamp": 1756315849039,
     "user": {
      "displayName": "Serena Cheng",
      "userId": "10714070634114657116"
     },
     "user_tz": 240
    },
    "id": "_jvJi3ZBKofk",
    "outputId": "8ae23c41-998d-4d8e-f6f1-8143ac5b5fa6"
   },
   "outputs": [
    {
     "name": "stdout",
     "output_type": "stream",
     "text": [
      "   ━━━━━━━━━━━━━━━━━━━━━━━━━━━━━━━━━━━━━━━━ 12.7/12.7 MB 69.7 MB/s eta 0:00:00\n",
      "   ━━━━━━━━━━━━━━━━━━━━━━━━━━━━━━━━━━━━━━━━ 42.1/42.1 MB 18.2 MB/s eta 0:00:00\n"
     ]
    }
   ],
   "source": [
    "%%bash\n",
    "pip uninstall -y pandas pyarrow -q || true\n",
    "pip install -q \"pandas==2.2.2\" \"pyarrow<20\" tqdm"
   ]
  },
  {
   "cell_type": "code",
   "execution_count": null,
   "metadata": {
    "colab": {
     "base_uri": "https://localhost:8080/"
    },
    "executionInfo": {
     "elapsed": 32200,
     "status": "ok",
     "timestamp": 1756315881240,
     "user": {
      "displayName": "Serena Cheng",
      "userId": "10714070634114657116"
     },
     "user_tz": 240
    },
    "id": "SHmvUFKZKzDl",
    "outputId": "f4a3c74b-580b-47d7-c191-fcf5f6f5c42f"
   },
   "outputs": [
    {
     "name": "stdout",
     "output_type": "stream",
     "text": [
      "Mounted at /content/drive\n"
     ]
    }
   ],
   "source": [
    "from google.colab import drive\n",
    "drive.mount('/content/drive')"
   ]
  },
  {
   "cell_type": "code",
   "execution_count": null,
   "metadata": {
    "colab": {
     "base_uri": "https://localhost:8080/"
    },
    "executionInfo": {
     "elapsed": 2009746,
     "status": "ok",
     "timestamp": 1756276817708,
     "user": {
      "displayName": "Serena Cheng",
      "userId": "10714070634114657116"
     },
     "user_tz": 240
    },
    "id": "kSNxH-HoK7lV",
    "outputId": "b9cc4567-8323-4ce0-a632-99e2e9575bb3"
   },
   "outputs": [
    {
     "name": "stdout",
     "output_type": "stream",
     "text": [
      "Device: cuda\n",
      "n_users=2035490, n_items=825869, n_train=384768\n",
      "Epoch 1: 100% 94/94 [00:33<00:00,  2.81it/s]\n",
      "[Epoch 1] train_loss=0.3496 | val@20: recall=0.4425, ndcg=0.2420\n",
      "Epoch 2: 100% 94/94 [00:33<00:00,  2.83it/s]\n",
      "[Epoch 2] train_loss=0.1674 | val@20: recall=0.4413, ndcg=0.2485\n",
      "Epoch 3: 100% 94/94 [00:33<00:00,  2.83it/s]\n",
      "[Epoch 3] train_loss=0.1209 | val@20: recall=0.4458, ndcg=0.2487\n",
      "Epoch 4: 100% 94/94 [00:33<00:00,  2.83it/s]\n",
      "[Epoch 4] train_loss=0.0987 | val@20: recall=0.4515, ndcg=0.2491\n",
      "Epoch 5: 100% 94/94 [00:33<00:00,  2.83it/s]\n",
      "[Epoch 5] train_loss=0.0829 | val@20: recall=0.4564, ndcg=0.2507\n",
      "Epoch 6: 100% 94/94 [00:33<00:00,  2.83it/s]\n",
      "[Epoch 6] train_loss=0.0722 | val@20: recall=0.4635, ndcg=0.2524\n",
      "Epoch 7: 100% 94/94 [00:33<00:00,  2.84it/s]\n",
      "[Epoch 7] train_loss=0.0632 | val@20: recall=0.4699, ndcg=0.2543\n",
      "Epoch 8: 100% 94/94 [00:33<00:00,  2.84it/s]\n",
      "[Epoch 8] train_loss=0.0538 | val@20: recall=0.4740, ndcg=0.2565\n",
      "Epoch 9: 100% 94/94 [00:33<00:00,  2.84it/s]\n",
      "[Epoch 9] train_loss=0.0475 | val@20: recall=0.4747, ndcg=0.2565\n",
      "Epoch 10: 100% 94/94 [00:33<00:00,  2.84it/s]\n",
      "[Epoch 10] train_loss=0.0431 | val@20: recall=0.4765, ndcg=0.2552\n",
      "[Test] recall@20=0.2896, ndcg@20=0.1362\n",
      "Saved checkpoint to: /content/drive/MyDrive/MMREC/ckpt_mmgcn_light_full/mmgcn_light.pt\n"
     ]
    }
   ],
   "source": [
    "##全量数据，无图的item图像参数为0向量\n",
    "GRAPH_DIR = \"/content/drive/MyDrive/MMREC/data/graph_full_v1\"          \n",
    "OUT_DIR   = \"/content/drive/MyDrive/MMREC/ckpt_mmgcn_light_full_v1\" \n",
    "DEVICE    = \"cuda\"\n",
    "\n",
    "!python -u /content/drive/MyDrive/MMREC/mmgcn_train.py \\\n",
    "  --graph-dir \"{GRAPH_DIR}\" \\\n",
    "  --out \"{OUT_DIR}\" \\\n",
    "  --device {DEVICE} \\\n",
    "  --epochs 10 --batch-size 4096 --dim 64 --layers 2 --lr 1e-3 --weight-decay 1e-4\n",
    "# !python -u /content/drive/MyDrive/MMREC/mmgcn_train.py \\\n",
    "#   --graph-dir \"{GRAPH_DIR}\" \\\n",
    "#   --out \"{OUT_DIR}\" \\\n",
    "#   --device {DEVICE} \\\n",
    "#   --epochs 50 --batch-size 512 --dim 64 --layers 1 \\\n",
    "#   --lr 1e-3 --weight-decay 1e-4 --patience 5 --eval-neg 1000\n",
    "\n"
   ]
  },
  {
   "cell_type": "code",
   "execution_count": null,
   "metadata": {
    "colab": {
     "base_uri": "https://localhost:8080/"
    },
    "executionInfo": {
     "elapsed": 3130113,
     "status": "ok",
     "timestamp": 1756298723525,
     "user": {
      "displayName": "Serena Cheng",
      "userId": "10714070634114657116"
     },
     "user_tz": 240
    },
    "id": "DivIkNAnXPYO",
    "outputId": "e59bc7e3-5f08-4e43-96a1-983270c7ae1b"
   },
   "outputs": [
    {
     "name": "stdout",
     "output_type": "stream",
     "text": [
      "Device: cuda\n",
      "n_users=2035490, n_items=825869, n_train=384768\n",
      "Epoch 1: 100% 376/376 [09:53<00:00,  1.58s/it]\n",
      "[Epoch 1] train_loss=0.1984 | val@20: recall=0.4478, ndcg=0.2468\n",
      "Epoch 2: 100% 376/376 [09:52<00:00,  1.58s/it]\n",
      "[Epoch 2] train_loss=0.0881 | val@20: recall=0.4619, ndcg=0.2495\n",
      "Epoch 3: 100% 376/376 [09:52<00:00,  1.58s/it]\n",
      "[Epoch 3] train_loss=0.0589 | val@20: recall=0.4732, ndcg=0.2521\n",
      "[Test] recall@20=0.2870, ndcg@20=0.1349\n",
      "Saved checkpoint to: /content/drive/MyDrive/MMREC/ckpt_mmgcn_light_full/mmgcn_light.pt\n"
     ]
    }
   ],
   "source": [
    "##调超参\n",
    "GRAPH_DIR = \"/content/drive/MyDrive/MMREC/data/graph_full_v1\"         \n",
    "OUT_DIR   = \"/content/drive/MyDrive/MMREC/ckpt_mmgcn_light_full_v1\"     \n",
    "DEVICE    = \"cuda\"\n",
    "!python -u /content/drive/MyDrive/MMREC/mmgcn_train.py \\\n",
    "  --graph-dir \"{GRAPH_DIR}\" \\\n",
    "  --out \"{OUT_DIR}\" \\\n",
    "  --device {DEVICE} \\\n",
    "  --epochs 3 --batch-size 1024 --layers 2 --dim 64"
   ]
  },
  {
   "cell_type": "code",
   "execution_count": null,
   "metadata": {
    "colab": {
     "base_uri": "https://localhost:8080/"
    },
    "executionInfo": {
     "elapsed": 131157,
     "status": "ok",
     "timestamp": 1756325716253,
     "user": {
      "displayName": "Serena Cheng",
      "userId": "10714070634114657116"
     },
     "user_tz": 240
    },
    "id": "FK4MT5GCaMK5",
    "outputId": "b15cab11-4deb-4aa4-de34-5e6311eb49e5"
   },
   "outputs": [
    {
     "name": "stdout",
     "output_type": "stream",
     "text": [
      "Device: cuda\n",
      "n_users=206474, n_items=30812, n_train=6464\n",
      "Epoch 1: 100% 2/2 [00:00<00:00,  3.26it/s]\n",
      "[Epoch 1] train_loss=0.5793 | val@20: recall=0.7556, ndcg=0.4460\n",
      "Epoch 2: 100% 2/2 [00:00<00:00, 10.87it/s]\n",
      "[Epoch 2] train_loss=0.5472 | val@20: recall=0.7607, ndcg=0.4367\n",
      "Epoch 3: 100% 2/2 [00:00<00:00, 10.92it/s]\n",
      "[Epoch 3] train_loss=0.5123 | val@20: recall=0.7573, ndcg=0.4375\n",
      "Epoch 4: 100% 2/2 [00:00<00:00, 10.77it/s]\n",
      "[Epoch 4] train_loss=0.4810 | val@20: recall=0.7538, ndcg=0.4397\n",
      "Early stop.\n",
      "[Test] recall@20=0.3875, ndcg@20=0.2316\n",
      "Saved checkpoint to: /content/drive/MyDrive/MMREC/ckpt_mmgcn_light/mmgcn_light.pt\n"
     ]
    }
   ],
   "source": [
    "##只留有图的部分做train\n",
    "GRAPH_DIR = \"/content/drive/MyDrive/MMREC/data/graph\"          \n",
    "OUT_DIR   = \"/content/drive/MyDrive/MMREC/ckpt_mmgcn_light\"     \n",
    "DEVICE    = \"cuda\"\n",
    "!python -u /content/drive/MyDrive/MMREC/mmgcn_train_v1.py \\\n",
    "  --graph-dir \"{GRAPH_DIR}\" \\\n",
    "  --out \"{OUT_DIR}\" \\\n",
    "  --device {DEVICE} \\\n",
    "  --epochs 10 --batch-size 4096 --dim 64 --layers 2 --lr 1e-3 --weight-decay 1e-4"
   ]
  }
 ],
 "metadata": {
  "accelerator": "GPU",
  "colab": {
   "authorship_tag": "ABX9TyOLxQT4EcCg5e4hWgtfSHvc",
   "gpuType": "L4",
   "provenance": []
  },
  "kernelspec": {
   "display_name": "Python 3",
   "name": "python3"
  },
  "language_info": {
   "name": "python"
  }
 },
 "nbformat": 4,
 "nbformat_minor": 0
}
